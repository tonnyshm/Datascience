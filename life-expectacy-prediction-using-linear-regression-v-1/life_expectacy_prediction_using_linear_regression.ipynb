{
 "cells": [
  {
   "cell_type": "code",
   "execution_count": 1,
   "metadata": {},
   "outputs": [],
   "source": [
    "import torch\n",
    "import torchvision\n",
    "import torch.nn as nn\n",
    "import numpy as np\n",
    "import pandas as pd\n",
    "import matplotlib.pyplot as plt\n",
    "from torch.utils.data import DataLoader, TensorDataset, random_split\n",
    "from torchvision.datasets.utils import download_url\n",
    "import torch.nn.functional as F"
   ]
  },
  {
   "cell_type": "code",
   "execution_count": null,
   "metadata": {},
   "outputs": [],
   "source": []
  },
  {
   "cell_type": "code",
   "execution_count": 77,
   "metadata": {},
   "outputs": [],
   "source": [
    "dataframe =pd.read_csv(r'C:\\Users\\User\\Desktop\\AI (Neural Networks)&Deep learning\\exercises AI\\life1.csv')\n",
    "filename = 'datasets_33080_43333_car data.csv'"
   ]
  },
  {
   "cell_type": "code",
   "execution_count": 78,
   "metadata": {},
   "outputs": [
    {
     "name": "stdout",
     "output_type": "stream",
     "text": [
      "      Unnamed: 0      Country  Year      Status  Life expectancy   \\\n",
      "0              0  Afghanistan  2015  Developing              65.0   \n",
      "1              1  Afghanistan  2014  Developing              59.9   \n",
      "2              2  Afghanistan  2013  Developing              59.9   \n",
      "3              3  Afghanistan  2012  Developing              59.5   \n",
      "4              4  Afghanistan  2011  Developing              59.2   \n",
      "...          ...          ...   ...         ...               ...   \n",
      "1654        2933     Zimbabwe  2004  Developing              44.3   \n",
      "1655        2934     Zimbabwe  2003  Developing              44.5   \n",
      "1656        2935     Zimbabwe  2002  Developing              44.8   \n",
      "1657        2936     Zimbabwe  2001  Developing              45.3   \n",
      "1658        2937     Zimbabwe  2000  Developing              46.0   \n",
      "\n",
      "      Adult Mortality  infant deaths  Alcohol  percentage expenditure  \\\n",
      "0               263.0             62     0.01               71.279624   \n",
      "1               271.0             64     0.01               73.523582   \n",
      "2               268.0             66     0.01               73.219243   \n",
      "3               272.0             69     0.01               78.184215   \n",
      "4               275.0             71     0.01                7.097109   \n",
      "...               ...            ...      ...                     ...   \n",
      "1654            723.0             27     4.36                0.000000   \n",
      "1655            715.0             26     4.06                0.000000   \n",
      "1656             73.0             25     4.43                0.000000   \n",
      "1657            686.0             25     1.72                0.000000   \n",
      "1658            665.0             24     1.68                0.000000   \n",
      "\n",
      "      Hepatitis B  ...  Polio  Total expenditure  Diphtheria    HIV/AIDS  \\\n",
      "0            65.0  ...    6.0               8.16         65.0        0.1   \n",
      "1            62.0  ...   58.0               8.18         62.0        0.1   \n",
      "2            64.0  ...   62.0               8.13         64.0        0.1   \n",
      "3            67.0  ...   67.0               8.52         67.0        0.1   \n",
      "4            68.0  ...   68.0               7.87         68.0        0.1   \n",
      "...           ...  ...    ...                ...          ...        ...   \n",
      "1654         68.0  ...   67.0               7.13         65.0       33.6   \n",
      "1655          7.0  ...    7.0               6.52         68.0       36.7   \n",
      "1656         73.0  ...   73.0               6.53         71.0       39.8   \n",
      "1657         76.0  ...   76.0               6.16         75.0       42.1   \n",
      "1658         79.0  ...   78.0               7.10         78.0       43.5   \n",
      "\n",
      "             GDP  Population   thinness  1-19 years   thinness 5-9 years  \\\n",
      "0     584.259210  33736494.0                   17.2                 17.3   \n",
      "1     612.696514    327582.0                   17.5                 17.5   \n",
      "2     631.744976  31731688.0                   17.7                 17.7   \n",
      "3     669.959000   3696958.0                   17.9                 18.0   \n",
      "4      63.537231   2978599.0                   18.2                 18.2   \n",
      "...          ...         ...                    ...                  ...   \n",
      "1654  454.366654  12777511.0                    9.4                  9.4   \n",
      "1655  453.351155  12633897.0                    9.8                  9.9   \n",
      "1656   57.348340    125525.0                    1.2                  1.3   \n",
      "1657  548.587312  12366165.0                    1.6                  1.7   \n",
      "1658  547.358879  12222251.0                   11.0                 11.2   \n",
      "\n",
      "      Income composition of resources  Schooling  \n",
      "0                               0.479       10.1  \n",
      "1                               0.476       10.0  \n",
      "2                               0.470        9.9  \n",
      "3                               0.463        9.8  \n",
      "4                               0.454        9.5  \n",
      "...                               ...        ...  \n",
      "1654                            0.407        9.2  \n",
      "1655                            0.418        9.5  \n",
      "1656                            0.427       10.0  \n",
      "1657                            0.427        9.8  \n",
      "1658                            0.434        9.8  \n",
      "\n",
      "[1659 rows x 23 columns]\n"
     ]
    }
   ],
   "source": [
    "print(dataframe)"
   ]
  },
  {
   "cell_type": "code",
   "execution_count": 79,
   "metadata": {},
   "outputs": [
    {
     "data": {
      "text/html": [
       "<div>\n",
       "<style scoped>\n",
       "    .dataframe tbody tr th:only-of-type {\n",
       "        vertical-align: middle;\n",
       "    }\n",
       "\n",
       "    .dataframe tbody tr th {\n",
       "        vertical-align: top;\n",
       "    }\n",
       "\n",
       "    .dataframe thead th {\n",
       "        text-align: right;\n",
       "    }\n",
       "</style>\n",
       "<table border=\"1\" class=\"dataframe\">\n",
       "  <thead>\n",
       "    <tr style=\"text-align: right;\">\n",
       "      <th></th>\n",
       "      <th>Car_Name</th>\n",
       "      <th>Year</th>\n",
       "      <th>Selling_Price</th>\n",
       "      <th>Present_Price</th>\n",
       "      <th>Kms_Driven</th>\n",
       "      <th>Fuel_Type</th>\n",
       "      <th>Seller_Type</th>\n",
       "      <th>Transmission</th>\n",
       "      <th>Owner</th>\n",
       "    </tr>\n",
       "  </thead>\n",
       "  <tbody>\n",
       "    <tr>\n",
       "      <td>0</td>\n",
       "      <td>ritz</td>\n",
       "      <td>2014</td>\n",
       "      <td>3.35</td>\n",
       "      <td>5.59</td>\n",
       "      <td>27000</td>\n",
       "      <td>Petrol</td>\n",
       "      <td>Dealer</td>\n",
       "      <td>Manual</td>\n",
       "      <td>0</td>\n",
       "    </tr>\n",
       "    <tr>\n",
       "      <td>1</td>\n",
       "      <td>sx4</td>\n",
       "      <td>2013</td>\n",
       "      <td>4.75</td>\n",
       "      <td>9.54</td>\n",
       "      <td>43000</td>\n",
       "      <td>Diesel</td>\n",
       "      <td>Dealer</td>\n",
       "      <td>Manual</td>\n",
       "      <td>0</td>\n",
       "    </tr>\n",
       "    <tr>\n",
       "      <td>2</td>\n",
       "      <td>ciaz</td>\n",
       "      <td>2017</td>\n",
       "      <td>7.25</td>\n",
       "      <td>9.85</td>\n",
       "      <td>6900</td>\n",
       "      <td>Petrol</td>\n",
       "      <td>Dealer</td>\n",
       "      <td>Manual</td>\n",
       "      <td>0</td>\n",
       "    </tr>\n",
       "    <tr>\n",
       "      <td>3</td>\n",
       "      <td>wagon r</td>\n",
       "      <td>2011</td>\n",
       "      <td>2.85</td>\n",
       "      <td>4.15</td>\n",
       "      <td>5200</td>\n",
       "      <td>Petrol</td>\n",
       "      <td>Dealer</td>\n",
       "      <td>Manual</td>\n",
       "      <td>0</td>\n",
       "    </tr>\n",
       "    <tr>\n",
       "      <td>4</td>\n",
       "      <td>swift</td>\n",
       "      <td>2014</td>\n",
       "      <td>4.60</td>\n",
       "      <td>6.87</td>\n",
       "      <td>42450</td>\n",
       "      <td>Diesel</td>\n",
       "      <td>Dealer</td>\n",
       "      <td>Manual</td>\n",
       "      <td>0</td>\n",
       "    </tr>\n",
       "  </tbody>\n",
       "</table>\n",
       "</div>"
      ],
      "text/plain": [
       "  Car_Name  Year  Selling_Price  Present_Price  Kms_Driven Fuel_Type  \\\n",
       "0     ritz  2014           3.35           5.59       27000    Petrol   \n",
       "1      sx4  2013           4.75           9.54       43000    Diesel   \n",
       "2     ciaz  2017           7.25           9.85        6900    Petrol   \n",
       "3  wagon r  2011           2.85           4.15        5200    Petrol   \n",
       "4    swift  2014           4.60           6.87       42450    Diesel   \n",
       "\n",
       "  Seller_Type Transmission  Owner  \n",
       "0      Dealer       Manual      0  \n",
       "1      Dealer       Manual      0  \n",
       "2      Dealer       Manual      0  \n",
       "3      Dealer       Manual      0  \n",
       "4      Dealer       Manual      0  "
      ]
     },
     "execution_count": 79,
     "metadata": {},
     "output_type": "execute_result"
    }
   ],
   "source": [
    "dataframe_raw =pd.read_csv(filename)\n",
    "dataframe_raw.head()"
   ]
  },
  {
   "cell_type": "code",
   "execution_count": 80,
   "metadata": {},
   "outputs": [
    {
     "data": {
      "text/plain": [
       "1659"
      ]
     },
     "execution_count": 80,
     "metadata": {},
     "output_type": "execute_result"
    }
   ],
   "source": [
    "num_rows =len(dataframe)\n",
    "num_rows"
   ]
  },
  {
   "cell_type": "code",
   "execution_count": 81,
   "metadata": {},
   "outputs": [
    {
     "data": {
      "text/plain": [
       "23"
      ]
     },
     "execution_count": 81,
     "metadata": {},
     "output_type": "execute_result"
    }
   ],
   "source": [
    "num_cols =len(dataframe.columns)\n",
    "num_cols"
   ]
  },
  {
   "cell_type": "code",
   "execution_count": 82,
   "metadata": {},
   "outputs": [],
   "source": [
    "# a = dataframe.dropna()   dropping null values in the dataset and saving in valiable a\n",
    "# a.to_csv('life1.csv')    creating a new dataset (life1.csv) containing value in a"
   ]
  },
  {
   "cell_type": "code",
   "execution_count": null,
   "metadata": {},
   "outputs": [],
   "source": []
  },
  {
   "cell_type": "code",
   "execution_count": 138,
   "metadata": {},
   "outputs": [
    {
     "data": {
      "text/plain": [
       "['Country',\n",
       " 'Year',\n",
       " 'Status',\n",
       " 'Adult Mortality',\n",
       " 'infant deaths',\n",
       " 'Alcohol',\n",
       " 'percentage expenditure',\n",
       " 'Hepatitis B',\n",
       " 'Measles ',\n",
       " ' BMI ',\n",
       " 'under-five deaths ',\n",
       " 'Polio',\n",
       " 'Total expenditure',\n",
       " 'Diphtheria ',\n",
       " ' HIV/AIDS',\n",
       " 'GDP',\n",
       " 'Population',\n",
       " ' thinness  1-19 years',\n",
       " ' thinness 5-9 years',\n",
       " 'Income composition of resources',\n",
       " 'Schooling']"
      ]
     },
     "execution_count": 138,
     "metadata": {},
     "output_type": "execute_result"
    }
   ],
   "source": [
    "input_cols =dataframe.columns.values.tolist()\n",
    "input_cols.remove('Life expectancy ')\n",
    "input_cols.remove('Unnamed: 0')\n",
    "\n",
    "\n",
    "input_cols"
   ]
  },
  {
   "cell_type": "code",
   "execution_count": 140,
   "metadata": {},
   "outputs": [
    {
     "data": {
      "text/plain": [
       "['Life expectancy ']"
      ]
     },
     "execution_count": 140,
     "metadata": {},
     "output_type": "execute_result"
    }
   ],
   "source": [
    "output_cols =[dataframe.columns[4]]\n",
    "output_cols"
   ]
  },
  {
   "cell_type": "code",
   "execution_count": 141,
   "metadata": {},
   "outputs": [
    {
     "data": {
      "text/plain": [
       "['Country', 'Status']"
      ]
     },
     "execution_count": 141,
     "metadata": {},
     "output_type": "execute_result"
    }
   ],
   "source": [
    "categorical_cols =dataframe.select_dtypes(include ='object').columns.tolist()\n",
    "categorical_cols"
   ]
  },
  {
   "cell_type": "markdown",
   "metadata": {},
   "source": [
    "# prepare the dataset for training"
   ]
  },
  {
   "cell_type": "markdown",
   "metadata": {},
   "source": [
    "HERE WE NEED TO CONVERT THE PANDAS DATAFRAME INTO PYTORCH TENSOR FOR TRAINING."
   ]
  },
  {
   "cell_type": "code",
   "execution_count": 142,
   "metadata": {},
   "outputs": [],
   "source": [
    "def dataframe_to_arrays(dataframe):\n",
    "    # Make a copy of the original dataframe\n",
    "    dataframe1 = dataframe.copy(deep=True)\n",
    "    # Convert non-numeric categorical columns to numbers\n",
    "    for col in categorical_cols:\n",
    "        dataframe1[col] = dataframe1[col].astype('category').cat.codes\n",
    "    # Extract input & outupts as numpy arrays\n",
    "    inputs_array = dataframe1[input_cols].to_numpy()\n",
    "    targets_array = dataframe1[output_cols].to_numpy()\n",
    "    return inputs_array, targets_array"
   ]
  },
  {
   "cell_type": "code",
   "execution_count": 143,
   "metadata": {},
   "outputs": [
    {
     "data": {
      "text/plain": [
       "(array([[0.000e+00, 2.015e+03, 1.000e+00, ..., 1.730e+01, 4.790e-01,\n",
       "         1.010e+01],\n",
       "        [0.000e+00, 2.014e+03, 1.000e+00, ..., 1.750e+01, 4.760e-01,\n",
       "         1.000e+01],\n",
       "        [0.000e+00, 2.013e+03, 1.000e+00, ..., 1.770e+01, 4.700e-01,\n",
       "         9.900e+00],\n",
       "        ...,\n",
       "        [1.330e+02, 2.002e+03, 1.000e+00, ..., 1.300e+00, 4.270e-01,\n",
       "         1.000e+01],\n",
       "        [1.330e+02, 2.001e+03, 1.000e+00, ..., 1.700e+00, 4.270e-01,\n",
       "         9.800e+00],\n",
       "        [1.330e+02, 2.000e+03, 1.000e+00, ..., 1.120e+01, 4.340e-01,\n",
       "         9.800e+00]]), array([[65. ],\n",
       "        [59.9],\n",
       "        [59.9],\n",
       "        ...,\n",
       "        [44.8],\n",
       "        [45.3],\n",
       "        [46. ]]))"
      ]
     },
     "execution_count": 143,
     "metadata": {},
     "output_type": "execute_result"
    }
   ],
   "source": [
    "inputs_array, targets_array = dataframe_to_arrays(dataframe)\n",
    "inputs_array, targets_array"
   ]
  },
  {
   "cell_type": "code",
   "execution_count": 144,
   "metadata": {},
   "outputs": [
    {
     "data": {
      "text/plain": [
       "dtype('float64')"
      ]
     },
     "execution_count": 144,
     "metadata": {},
     "output_type": "execute_result"
    }
   ],
   "source": [
    "inputs_array.dtype"
   ]
  },
  {
   "cell_type": "code",
   "execution_count": 145,
   "metadata": {},
   "outputs": [
    {
     "data": {
      "text/plain": [
       "tensor([[0.0000e+00, 2.0150e+03, 1.0000e+00,  ..., 1.7300e+01, 4.7900e-01,\n",
       "         1.0100e+01],\n",
       "        [0.0000e+00, 2.0140e+03, 1.0000e+00,  ..., 1.7500e+01, 4.7600e-01,\n",
       "         1.0000e+01],\n",
       "        [0.0000e+00, 2.0130e+03, 1.0000e+00,  ..., 1.7700e+01, 4.7000e-01,\n",
       "         9.9000e+00],\n",
       "        ...,\n",
       "        [1.3300e+02, 2.0020e+03, 1.0000e+00,  ..., 1.3000e+00, 4.2700e-01,\n",
       "         1.0000e+01],\n",
       "        [1.3300e+02, 2.0010e+03, 1.0000e+00,  ..., 1.7000e+00, 4.2700e-01,\n",
       "         9.8000e+00],\n",
       "        [1.3300e+02, 2.0000e+03, 1.0000e+00,  ..., 1.1200e+01, 4.3400e-01,\n",
       "         9.8000e+00]])"
      ]
     },
     "execution_count": 145,
     "metadata": {},
     "output_type": "execute_result"
    }
   ],
   "source": [
    "inputs = torch.tensor(inputs_array, dtype=torch.float32 )\n",
    "targets = torch.tensor(targets_array, dtype=torch.float32)\n",
    "inputs"
   ]
  },
  {
   "cell_type": "code",
   "execution_count": 146,
   "metadata": {},
   "outputs": [
    {
     "data": {
      "text/plain": [
       "(torch.float32, torch.float32)"
      ]
     },
     "execution_count": 146,
     "metadata": {},
     "output_type": "execute_result"
    }
   ],
   "source": [
    "inputs.dtype, targets.dtype"
   ]
  },
  {
   "cell_type": "code",
   "execution_count": 147,
   "metadata": {},
   "outputs": [],
   "source": [
    "dataset = TensorDataset(inputs, targets)"
   ]
  },
  {
   "cell_type": "code",
   "execution_count": 148,
   "metadata": {},
   "outputs": [],
   "source": [
    "val_percent = 0.14 # between 0.1 and 0.2\n",
    "val_size = int(num_rows * val_percent)\n",
    "train_size = num_rows - val_size\n",
    "\n",
    "\n",
    "train_ds, val_ds = random_split(dataset, [1000,659]) # Use the random_split function to split dataset into 2 parts of the desired length"
   ]
  },
  {
   "cell_type": "code",
   "execution_count": 149,
   "metadata": {},
   "outputs": [],
   "source": [
    "batch_size = 10"
   ]
  },
  {
   "cell_type": "code",
   "execution_count": 150,
   "metadata": {},
   "outputs": [],
   "source": [
    "train_loader = DataLoader(train_ds, batch_size, shuffle=True)\n",
    "val_loader = DataLoader(val_ds, batch_size)"
   ]
  },
  {
   "cell_type": "code",
   "execution_count": 151,
   "metadata": {},
   "outputs": [
    {
     "name": "stdout",
     "output_type": "stream",
     "text": [
      "inputs: tensor([[4.2000e+01, 2.0130e+03, 1.0000e+00, 1.9200e+02, 0.0000e+00, 1.0000e-02,\n",
      "         4.6065e+02, 9.9000e+01, 0.0000e+00, 6.1100e+01, 0.0000e+00, 9.9000e+01,\n",
      "         4.2600e+00, 9.9000e+01, 1.0000e-01, 4.7637e+03, 8.7972e+05, 4.0000e+00,\n",
      "         3.7000e+00, 7.1900e-01, 1.5000e+01],\n",
      "        [1.8000e+01, 2.0020e+03, 0.0000e+00, 1.5700e+02, 1.0000e+00, 1.0200e+01,\n",
      "         3.3268e+01, 8.8000e+01, 0.0000e+00, 5.8100e+01, 1.0000e+00, 9.4000e+01,\n",
      "         7.4100e+00, 9.3000e+01, 1.0000e-01, 2.8753e+02, 7.8372e+06, 2.4000e+00,\n",
      "         2.4000e+00, 7.2300e-01, 1.2900e+01],\n",
      "        [1.0600e+02, 2.0050e+03, 1.0000e+00, 1.3500e+02, 1.0000e+00, 9.6000e+00,\n",
      "         5.0311e+02, 6.5000e+01, 2.0000e+00, 5.3900e+01, 1.0000e+00, 9.8000e+01,\n",
      "         8.7000e+00, 9.8000e+01, 1.0000e-01, 3.5281e+03, 7.4477e+05, 2.5000e+00,\n",
      "         2.6000e+00, 7.3000e-01, 1.3200e+01],\n",
      "        [4.8000e+01, 2.0130e+03, 1.0000e+00, 7.4000e+01, 0.0000e+00, 7.4600e+00,\n",
      "         2.1831e+03, 9.8000e+01, 3.0000e+00, 6.5400e+01, 0.0000e+00, 9.9000e+01,\n",
      "         9.2600e+00, 9.9000e+01, 1.0000e-01, 2.1875e+04, 1.9652e+06, 8.0000e-01,\n",
      "         7.0000e-01, 8.6000e-01, 1.7100e+01],\n",
      "        [4.6000e+01, 2.0070e+03, 0.0000e+00, 8.2000e+01, 3.0000e+00, 1.1500e+01,\n",
      "         7.7776e+03, 8.6000e+01, 5.6700e+02, 5.8500e+01, 3.0000e+00, 9.5000e+01,\n",
      "         1.1800e+00, 9.6000e+01, 1.0000e-01, 4.1815e+04, 8.2266e+07, 1.1000e+00,\n",
      "         1.1000e+00, 8.9800e-01, 1.6600e+01],\n",
      "        [8.3000e+01, 2.0080e+03, 1.0000e+00, 1.2300e+02, 2.1000e+01, 5.1000e-01,\n",
      "         1.7137e+02, 9.7000e+01, 1.4550e+03, 5.1700e+01, 2.4000e+01, 9.9000e+01,\n",
      "         5.4100e+00, 9.9000e+01, 1.0000e-01, 2.8849e+03, 3.1597e+07, 6.4000e+00,\n",
      "         6.3000e+00, 5.8900e-01, 1.0300e+01],\n",
      "        [6.0000e+00, 2.0080e+03, 0.0000e+00, 6.6000e+01, 1.0000e+00, 1.0760e+01,\n",
      "         8.5473e+03, 9.4000e+01, 6.5000e+01, 6.2900e+01, 1.0000e+00, 9.2000e+01,\n",
      "         8.7800e+00, 9.2000e+01, 1.0000e-01, 4.9665e+04, 2.1249e+05, 7.0000e-01,\n",
      "         6.0000e-01, 9.2100e-01, 1.9100e+01],\n",
      "        [9.5000e+01, 2.0110e+03, 1.0000e+00, 1.5000e+01, 3.0000e+00, 5.7900e+00,\n",
      "         4.7219e+02, 8.9000e+01, 0.0000e+00, 4.7100e+01, 3.0000e+00, 8.4000e+01,\n",
      "         9.4200e+00, 8.9000e+01, 1.0000e-01, 3.9881e+03, 6.2938e+06, 2.1000e+00,\n",
      "         2.0000e+00, 6.7500e-01, 1.2300e+01],\n",
      "        [1.0000e+01, 2.0110e+03, 1.0000e+00, 2.3200e+02, 0.0000e+00, 1.7310e+01,\n",
      "         8.4691e+02, 9.8000e+01, 5.0000e+01, 5.9900e+01, 1.0000e+00, 9.8000e+01,\n",
      "         4.9200e+00, 9.8000e+01, 1.0000e-01, 6.5197e+03, 9.4732e+06, 2.0000e+00,\n",
      "         2.1000e+00, 7.8700e-01, 1.5500e+01],\n",
      "        [1.0300e+02, 2.0010e+03, 1.0000e+00, 1.7500e+02, 0.0000e+00, 3.4300e+00,\n",
      "         1.9941e+02, 8.9000e+01, 0.0000e+00, 6.6500e+01, 0.0000e+00, 8.3000e+01,\n",
      "         5.1600e+00, 8.5000e+01, 1.0000e-01, 1.5555e+03, 1.7557e+05, 2.0000e-01,\n",
      "         2.0000e-01, 6.4500e-01, 1.2000e+01]])\n",
      "targets: tensor([[69.6000],\n",
      "        [71.8000],\n",
      "        [73.0000],\n",
      "        [86.0000],\n",
      "        [79.8000],\n",
      "        [71.8000],\n",
      "        [81.3000],\n",
      "        [73.4000],\n",
      "        [72.0000],\n",
      "        [75.0000]])\n"
     ]
    }
   ],
   "source": [
    "for xb, yb in train_loader:\n",
    "    print(\"inputs:\", xb)\n",
    "    print(\"targets:\", yb)\n",
    "    break"
   ]
  },
  {
   "cell_type": "markdown",
   "metadata": {},
   "source": [
    " # Linear Regression Model"
   ]
  },
  {
   "cell_type": "code",
   "execution_count": 152,
   "metadata": {},
   "outputs": [],
   "source": [
    "input_size = len(input_cols)\n",
    "output_size = len(output_cols)"
   ]
  },
  {
   "cell_type": "code",
   "execution_count": null,
   "metadata": {},
   "outputs": [],
   "source": []
  },
  {
   "cell_type": "code",
   "execution_count": 153,
   "metadata": {},
   "outputs": [],
   "source": [
    "class InsuranceModel(nn.Module):\n",
    "    def __init__(self):\n",
    "        super().__init__()\n",
    "        self.linear = nn.Linear(input_size, output_size)                 \n",
    "    def forward(self, xb):\n",
    "        out = self.linear(xb)                         \n",
    "        return out\n",
    "    \n",
    "    def training_step(self, batch):\n",
    "        inputs, targets = batch \n",
    "        # Generate predictions\n",
    "        out = self(inputs)          \n",
    "        # Calcuate loss\n",
    "        loss = F.l1_loss(out, targets)                    \n",
    "        return loss\n",
    "    \n",
    "    def validation_step(self, batch):\n",
    "        inputs, targets = batch\n",
    "        # Generate predictions\n",
    "        out = self(inputs)\n",
    "        # Calculate loss\n",
    "        loss = F.l1_loss(out, targets)  \n",
    "        \n",
    "        return {'val_loss': loss.detach()}\n",
    "        \n",
    "    def validation_epoch_end(self, outputs):\n",
    "        batch_losses = [x['val_loss'] for x in outputs]\n",
    "        epoch_loss = torch.stack(batch_losses).mean() \n",
    "        return {'val_loss': epoch_loss.item()}\n",
    "    \n",
    "    def epoch_end(self, epoch, result, num_epochs):\n",
    "        # Print result every 20th epoch\n",
    "        if (epoch+1) % 20 == 0 or epoch == num_epochs-1:\n",
    "            print(\"Epoch [{}], val_loss: {:.4f}\".format(epoch+1, result['val_loss']))\n",
    "          "
   ]
  },
  {
   "cell_type": "code",
   "execution_count": 154,
   "metadata": {},
   "outputs": [],
   "source": [
    "model = InsuranceModel()"
   ]
  },
  {
   "cell_type": "code",
   "execution_count": 155,
   "metadata": {},
   "outputs": [
    {
     "data": {
      "text/plain": [
       "[Parameter containing:\n",
       " tensor([[-0.1524,  0.0669,  0.1343, -0.0380, -0.0409,  0.0392, -0.1683, -0.0701,\n",
       "           0.1831,  0.1058,  0.1431, -0.1725,  0.0013, -0.0750,  0.2062, -0.1850,\n",
       "           0.0251, -0.1082,  0.1243,  0.0149, -0.1911]], requires_grad=True),\n",
       " Parameter containing:\n",
       " tensor([-0.0831], requires_grad=True)]"
      ]
     },
     "execution_count": 155,
     "metadata": {},
     "output_type": "execute_result"
    }
   ],
   "source": [
    "list(model.parameters())"
   ]
  },
  {
   "cell_type": "markdown",
   "metadata": {},
   "source": [
    "# Train the model to fit the data"
   ]
  },
  {
   "cell_type": "code",
   "execution_count": 156,
   "metadata": {},
   "outputs": [],
   "source": [
    "def evaluate(model, val_loader):\n",
    "    outputs = [model.validation_step(batch) for batch in val_loader]\n",
    "    return model.validation_epoch_end(outputs)\n",
    "\n",
    "def fit(epochs, lr, model, train_loader, val_loader, opt_func=torch.optim.SGD):\n",
    "    history = []\n",
    "    optimizer = opt_func(model.parameters(), lr)\n",
    "    for epoch in range(epochs):\n",
    "        # Training Phase \n",
    "        for batch in train_loader:\n",
    "            loss = model.training_step(batch)\n",
    "            loss.backward()\n",
    "            optimizer.step()\n",
    "            optimizer.zero_grad()\n",
    "        # Validation phase\n",
    "        result = evaluate(model, val_loader)\n",
    "        model.epoch_end(epoch, result, epochs)\n",
    "        history.append(result)\n",
    "    return history"
   ]
  },
  {
   "cell_type": "code",
   "execution_count": 157,
   "metadata": {},
   "outputs": [
    {
     "name": "stdout",
     "output_type": "stream",
     "text": [
      "[{'val_loss': 437178.75}]\n"
     ]
    }
   ],
   "source": [
    "result = [evaluate(model, val_loader)] # the evaluate function\n",
    "print(result)"
   ]
  },
  {
   "cell_type": "code",
   "execution_count": 186,
   "metadata": {},
   "outputs": [
    {
     "name": "stdout",
     "output_type": "stream",
     "text": [
      "Epoch [20], val_loss: 1253.3972\n",
      "Epoch [40], val_loss: 1264.9192\n",
      "Epoch [60], val_loss: 1275.6885\n",
      "Epoch [80], val_loss: 1253.8806\n",
      "Epoch [100], val_loss: 1252.9556\n"
     ]
    }
   ],
   "source": [
    "epochs = 100\n",
    "lr = 0.0000000000001\n",
    "history1 =fit(epochs, lr, model, train_loader, val_loader)"
   ]
  },
  {
   "cell_type": "code",
   "execution_count": 187,
   "metadata": {},
   "outputs": [
    {
     "data": {
      "text/plain": [
       "[<matplotlib.lines.Line2D at 0x2d2cb12ac08>]"
      ]
     },
     "execution_count": 187,
     "metadata": {},
     "output_type": "execute_result"
    },
    {
     "data": {
      "image/png": "[encoded data removed]",
      "text/plain": [
       "<Figure size 432x288 with 1 Axes>"
      ]
     },
     "metadata": {
      "needs_background": "light"
     },
     "output_type": "display_data"
    }
   ],
   "source": [
    "loss_ =[]\n",
    "for v in history1:\n",
    "    loss_.append(v['val_loss'])\n",
    "    \n",
    "plt.plot(loss_)\n"
   ]
  },
  {
   "cell_type": "markdown",
   "metadata": {},
   "source": [
    "# make prediction"
   ]
  },
  {
   "cell_type": "code",
   "execution_count": 169,
   "metadata": {},
   "outputs": [],
   "source": [
    "def predict_single(input, target, model):\n",
    "    inputs = input.unsqueeze(0)\n",
    "    predictions = model(inputs)                \n",
    "    prediction = predictions[0].detach()\n",
    "    print(\"Input:\", input)\n",
    "    print(\"Target:\", target)\n",
    "    print(\"Prediction:\", prediction)"
   ]
  },
  {
   "cell_type": "code",
   "execution_count": 173,
   "metadata": {},
   "outputs": [
    {
     "name": "stdout",
     "output_type": "stream",
     "text": [
      "Input: tensor([2.3000e+01, 2.0060e+03, 1.0000e+00, 3.9400e+02, 5.8000e+01, 5.2200e+00,\n",
      "        9.6250e-01, 8.1000e+01, 1.9600e+02, 2.3800e+01, 9.1000e+01, 7.8000e+01,\n",
      "        4.6900e+00, 8.1000e+01, 7.2000e+00, 1.2989e+01, 1.7900e+07, 6.7000e+00,\n",
      "        6.8000e+00, 4.5600e-01, 8.2000e+00])\n",
      "Target: tensor([53.3000])\n",
      "Prediction: tensor([73.4062])\n"
     ]
    }
   ],
   "source": [
    "input, target = val_ds[80]\n",
    "predict_single(input, target, model)"
   ]
  },
  {
   "cell_type": "code",
   "execution_count": 288,
   "metadata": {},
   "outputs": [],
   "source": []
  },
  {
   "cell_type": "code",
   "execution_count": null,
   "metadata": {},
   "outputs": [],
   "source": []
  }
 ],
 "metadata": {
  "kernelspec": {
   "display_name": "Python 3",
   "language": "python",
   "name": "python3"
  },
  "language_info": {
   "codemirror_mode": {
    "name": "ipython",
    "version": 3
   },
   "file_extension": ".py",
   "mimetype": "text/x-python",
   "name": "python",
   "nbconvert_exporter": "python",
   "pygments_lexer": "ipython3",
   "version": "3.7.4"
  }
 },
 "nbformat": 4,
 "nbformat_minor": 2
}
